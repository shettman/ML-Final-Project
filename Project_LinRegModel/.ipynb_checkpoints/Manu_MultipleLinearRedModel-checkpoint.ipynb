{
 "cells": [
  {
   "cell_type": "code",
   "execution_count": 1,
   "metadata": {},
   "outputs": [],
   "source": [
    "# Declare Dependencies\n",
    "import pandas as pd\n",
    "import numpy as np\n",
    "import datetime\n",
    "import matplotlib.pyplot as plt\n",
    "%matplotlib inline"
   ]
  },
  {
   "cell_type": "code",
   "execution_count": 3,
   "metadata": {},
   "outputs": [
    {
     "data": {
      "text/html": [
       "<div>\n",
       "<style scoped>\n",
       "    .dataframe tbody tr th:only-of-type {\n",
       "        vertical-align: middle;\n",
       "    }\n",
       "\n",
       "    .dataframe tbody tr th {\n",
       "        vertical-align: top;\n",
       "    }\n",
       "\n",
       "    .dataframe thead th {\n",
       "        text-align: right;\n",
       "    }\n",
       "</style>\n",
       "<table border=\"1\" class=\"dataframe\">\n",
       "  <thead>\n",
       "    <tr style=\"text-align: right;\">\n",
       "      <th></th>\n",
       "      <th>Unnamed: 0</th>\n",
       "      <th>reservation_no</th>\n",
       "      <th>room_no</th>\n",
       "      <th>total_nights</th>\n",
       "      <th>total_rate</th>\n",
       "      <th>avg_daily_rate</th>\n",
       "      <th>room_type</th>\n",
       "      <th>rate_type</th>\n",
       "      <th>booking_date</th>\n",
       "      <th>reservation_date</th>\n",
       "      <th>reservation_weekday</th>\n",
       "      <th>reservation_date_short</th>\n",
       "    </tr>\n",
       "  </thead>\n",
       "  <tbody>\n",
       "    <tr>\n",
       "      <td>0</td>\n",
       "      <td>0</td>\n",
       "      <td>1</td>\n",
       "      <td>210</td>\n",
       "      <td>3</td>\n",
       "      <td>258.02</td>\n",
       "      <td>86.006667</td>\n",
       "      <td>Double</td>\n",
       "      <td>Best Available Rate</td>\n",
       "      <td>2016-06-28</td>\n",
       "      <td>2016-07-21</td>\n",
       "      <td>Thursday</td>\n",
       "      <td>21, July</td>\n",
       "    </tr>\n",
       "    <tr>\n",
       "      <td>1</td>\n",
       "      <td>1</td>\n",
       "      <td>1</td>\n",
       "      <td>210</td>\n",
       "      <td>3</td>\n",
       "      <td>258.02</td>\n",
       "      <td>86.006667</td>\n",
       "      <td>Double</td>\n",
       "      <td>Best Available Rate</td>\n",
       "      <td>2016-06-28</td>\n",
       "      <td>2016-07-22</td>\n",
       "      <td>Friday</td>\n",
       "      <td>22, July</td>\n",
       "    </tr>\n",
       "    <tr>\n",
       "      <td>2</td>\n",
       "      <td>2</td>\n",
       "      <td>1</td>\n",
       "      <td>210</td>\n",
       "      <td>3</td>\n",
       "      <td>258.02</td>\n",
       "      <td>86.006667</td>\n",
       "      <td>Double</td>\n",
       "      <td>Best Available Rate</td>\n",
       "      <td>2016-06-28</td>\n",
       "      <td>2016-07-23</td>\n",
       "      <td>Saturday</td>\n",
       "      <td>23, July</td>\n",
       "    </tr>\n",
       "    <tr>\n",
       "      <td>3</td>\n",
       "      <td>3</td>\n",
       "      <td>13</td>\n",
       "      <td>108</td>\n",
       "      <td>3</td>\n",
       "      <td>223.50</td>\n",
       "      <td>74.500000</td>\n",
       "      <td>Double</td>\n",
       "      <td>Best Available Rate</td>\n",
       "      <td>2016-06-28</td>\n",
       "      <td>2016-07-14</td>\n",
       "      <td>Thursday</td>\n",
       "      <td>14, July</td>\n",
       "    </tr>\n",
       "    <tr>\n",
       "      <td>4</td>\n",
       "      <td>4</td>\n",
       "      <td>13</td>\n",
       "      <td>108</td>\n",
       "      <td>3</td>\n",
       "      <td>223.50</td>\n",
       "      <td>74.500000</td>\n",
       "      <td>Double</td>\n",
       "      <td>Best Available Rate</td>\n",
       "      <td>2016-06-28</td>\n",
       "      <td>2016-07-15</td>\n",
       "      <td>Friday</td>\n",
       "      <td>15, July</td>\n",
       "    </tr>\n",
       "  </tbody>\n",
       "</table>\n",
       "</div>"
      ],
      "text/plain": [
       "   Unnamed: 0  reservation_no room_no  total_nights  total_rate  \\\n",
       "0           0               1     210             3      258.02   \n",
       "1           1               1     210             3      258.02   \n",
       "2           2               1     210             3      258.02   \n",
       "3           3              13     108             3      223.50   \n",
       "4           4              13     108             3      223.50   \n",
       "\n",
       "   avg_daily_rate room_type            rate_type booking_date  \\\n",
       "0       86.006667   Double   Best Available Rate   2016-06-28   \n",
       "1       86.006667   Double   Best Available Rate   2016-06-28   \n",
       "2       86.006667   Double   Best Available Rate   2016-06-28   \n",
       "3       74.500000   Double   Best Available Rate   2016-06-28   \n",
       "4       74.500000   Double   Best Available Rate   2016-06-28   \n",
       "\n",
       "  reservation_date reservation_weekday reservation_date_short  \n",
       "0       2016-07-21            Thursday               21, July  \n",
       "1       2016-07-22              Friday               22, July  \n",
       "2       2016-07-23            Saturday               23, July  \n",
       "3       2016-07-14            Thursday               14, July  \n",
       "4       2016-07-15              Friday               15, July  "
      ]
     },
     "execution_count": 3,
     "metadata": {},
     "output_type": "execute_result"
    }
   ],
   "source": [
    "csv_df = pd.read_csv('results_exported.csv')\n",
    "csv_df_edited = csv_df\n",
    "csv_df_edited.head()\n"
   ]
  },
  {
   "cell_type": "code",
   "execution_count": null,
   "metadata": {
    "scrolled": true
   },
   "outputs": [],
   "source": []
  },
  {
   "cell_type": "code",
   "execution_count": null,
   "metadata": {},
   "outputs": [],
   "source": []
  },
  {
   "cell_type": "code",
   "execution_count": null,
   "metadata": {},
   "outputs": [],
   "source": []
  },
  {
   "cell_type": "code",
   "execution_count": null,
   "metadata": {},
   "outputs": [],
   "source": []
  },
  {
   "cell_type": "code",
   "execution_count": null,
   "metadata": {},
   "outputs": [],
   "source": []
  },
  {
   "cell_type": "code",
   "execution_count": null,
   "metadata": {},
   "outputs": [],
   "source": [
    "#create output dataframe\n",
    "results = []\n",
    "\n",
    "for index, row in csv_df_edited.iterrows():\n",
    "    for x in range(row['Nights']):\n",
    "        reservation_no = row['Reservation_No']\n",
    "        room_no = row['Room']\n",
    "        total_nights = row['Nights']\n",
    "        total_rate = row['TotalRate']\n",
    "        avg_daily_rate  = total_rate/total_nights\n",
    "        room_type = row['Room Type']\n",
    "        rate_type = row['Rate_Type']\n",
    "        booking_date = row['booking_date']\n",
    "        reservation_date = row['reservation_date']+datetime.timedelta(days=x)\n",
    "        reservation_weekday = reservation_date.strftime(\"%A\")\n",
    "        reservation_date_short = reservation_date.strftime(\"%d, %B\")\n",
    "        tester = {'reservation_no':reservation_no, 'room_no': room_no, 'total_nights': total_nights,'total_rate': total_rate, 'avg_daily_rate': avg_daily_rate, 'room_type': room_type, 'rate_type':rate_type, 'booking_date':booking_date, 'reservation_date':reservation_date, 'reservation_weekday':reservation_weekday,'reservation_date_short':reservation_date_short}\n",
    "        results.append(tester)\n",
    "        \n",
    "results_df = pd.DataFrame(results)\n",
    "results_df.head()"
   ]
  },
  {
   "cell_type": "code",
   "execution_count": null,
   "metadata": {},
   "outputs": [],
   "source": [
    "results_df.to_csv('results_exported.csv')"
   ]
  },
  {
   "cell_type": "code",
   "execution_count": null,
   "metadata": {},
   "outputs": [],
   "source": [
    " # Assign the data to X and y\n",
    "# Note: Sklearn requires a two-dimensional array of values\n",
    "# so we use reshape to create this\n",
    "\n",
    "X = results_df[\"total_nights\"].values.reshape(-1, 1)\n",
    "y = results_df[\"avg_daily_rate\"].values.reshape(-1, 1)\n",
    "\n",
    "print(\"Shape: \", X.shape, y.shape)"
   ]
  },
  {
   "cell_type": "code",
   "execution_count": null,
   "metadata": {},
   "outputs": [],
   "source": [
    "# Plot the data to see if a linear trend exists\n",
    "\n",
    "### BEGIN SOLUTION\n",
    "plt.scatter(X, y)\n",
    "plt.xlabel(\"counts\")\n",
    "plt.ylabel(\"Rate\")\n",
    "### END SOLUTION"
   ]
  },
  {
   "cell_type": "code",
   "execution_count": null,
   "metadata": {},
   "outputs": [],
   "source": [
    "results1_df = results_df.drop(columns=['reservation_no', 'room_no', 'total_rate', 'rate_type', 'booking_date', 'reservation_date', 'reservation_weekday', 'reservation_date_short'])\n",
    "results1_df"
   ]
  },
  {
   "cell_type": "code",
   "execution_count": null,
   "metadata": {
    "scrolled": true
   },
   "outputs": [],
   "source": [
    "# Drop a row by condition\n",
    "results2_df = results1_df[results1_df.room_type != 'King']\n",
    "results3_df = results2_df[results2_df.room_type != 'Upscale Jacuzzi King']\n",
    "results4_df = results3_df[results3_df.room_type != 'Rubideaux Condo']\n",
    "results5_df = results4_df[results4_df.room_type != 'Sweetheart King']\n",
    "results6_df = results5_df[results5_df.room_type != 'Upscale King']\n",
    "results7_df = results6_df[results6_df.room_type != 'Premier King']\n",
    "df = results7_df.drop(columns=['room_type'])\n",
    "df.head()\n"
   ]
  },
  {
   "cell_type": "code",
   "execution_count": null,
   "metadata": {},
   "outputs": [],
   "source": [
    "#Calculate meanvalues of duplicate entries of total_nights\n",
    "df1 = df.groupby('total_nights').mean().reset_index()\n",
    "df1.head()"
   ]
  },
  {
   "cell_type": "code",
   "execution_count": null,
   "metadata": {},
   "outputs": [],
   "source": [
    "from sklearn.linear_model import LinearRegression\n",
    "from sklearn import linear_model\n",
    "model = LinearRegression()"
   ]
  },
  {
   "cell_type": "code",
   "execution_count": null,
   "metadata": {},
   "outputs": [],
   "source": [
    "X1 = df1.drop('avg_daily_rate', axis='columns')\n",
    "X1"
   ]
  },
  {
   "cell_type": "code",
   "execution_count": null,
   "metadata": {},
   "outputs": [],
   "source": [
    "y1 = df1.avg_daily_rate\n",
    "y1"
   ]
  },
  {
   "cell_type": "code",
   "execution_count": null,
   "metadata": {},
   "outputs": [],
   "source": [
    "model.fit(X1,y1)"
   ]
  },
  {
   "cell_type": "code",
   "execution_count": null,
   "metadata": {},
   "outputs": [],
   "source": [
    "model.predict([[10]])"
   ]
  },
  {
   "cell_type": "code",
   "execution_count": null,
   "metadata": {},
   "outputs": [],
   "source": [
    "model.score(X1,y1)"
   ]
  },
  {
   "cell_type": "markdown",
   "metadata": {},
   "source": [
    "# Quantifying Linear Regression"
   ]
  },
  {
   "cell_type": "code",
   "execution_count": null,
   "metadata": {
    "scrolled": true
   },
   "outputs": [],
   "source": [
    "# Import dependencies\n",
    "from sklearn.datasets import make_regression\n",
    "from sklearn.linear_model import LinearRegression\n",
    "\n",
    "# Generate some data\n",
    "X1, y1 = make_regression(n_samples=20, n_features=1, random_state=0, noise=4, bias=100.0)\n",
    "\n",
    "# Create a linear model\n",
    "model = LinearRegression()\n",
    "\n",
    "# Fit (Train) our model to the data\n",
    "model.fit(X1, y1)"
   ]
  },
  {
   "cell_type": "markdown",
   "metadata": {},
   "source": [
    "# Quantifying our Model\n",
    "*Mean Squared Error (MSE)\n",
    "*R2 Socre"
   ]
  },
  {
   "cell_type": "code",
   "execution_count": null,
   "metadata": {},
   "outputs": [],
   "source": [
    "from sklearn.metrics import mean_squared_error, r2_score\n",
    "\n",
    "# Use our model to predict a value\n",
    "predicted = model.predict(X1)\n",
    "\n",
    "# Score the prediction with mse and r2\n",
    "mse = mean_squared_error(y1, predicted)\n",
    "r2 = r2_score(y1, predicted)\n",
    "\n",
    "print(f\"Mean Squared Error (MSE): {mse}\")\n",
    "print(f\"R-squared (R2 ): {r2}\")"
   ]
  },
  {
   "cell_type": "code",
   "execution_count": null,
   "metadata": {},
   "outputs": [],
   "source": [
    "# Overall Score for the model\n",
    "model.score(X1, y1)"
   ]
  },
  {
   "cell_type": "markdown",
   "metadata": {},
   "source": [
    "# Validation\n",
    "We also want to understand how well our model performs on new data.\n",
    "One approach for this is to split your data into a training and testing dataset.\n",
    "You fit (train) the model using training data, and score and validate your model using the testing data.\n",
    "This train/test splitting is so common that Sklearn provides a mechanism for doing this.\n",
    "\n",
    "# Testing and Training Data\n",
    "In order to quantify our model against new input values, we often split the data into training and testing data. The model is then fit to the training data and scored by the test data. Sklean pre-processing provides a library for automatically splitting up the data into training and testing"
   ]
  },
  {
   "cell_type": "code",
   "execution_count": null,
   "metadata": {},
   "outputs": [],
   "source": [
    "from sklearn.model_selection import train_test_split\n",
    "\n",
    "X1_train, X1_test, y1_train, y1_test = train_test_split(X1, y1, random_state=42)"
   ]
  },
  {
   "cell_type": "code",
   "execution_count": null,
   "metadata": {},
   "outputs": [],
   "source": [
    "model.fit(X1_train, y1_train)"
   ]
  },
  {
   "cell_type": "code",
   "execution_count": null,
   "metadata": {},
   "outputs": [],
   "source": [
    "model.score(X1_test, y1_test)"
   ]
  }
 ],
 "metadata": {
  "kernelspec": {
   "display_name": "Python 3",
   "language": "python",
   "name": "python3"
  },
  "language_info": {
   "codemirror_mode": {
    "name": "ipython",
    "version": 3
   },
   "file_extension": ".py",
   "mimetype": "text/x-python",
   "name": "python",
   "nbconvert_exporter": "python",
   "pygments_lexer": "ipython3",
   "version": "3.7.4"
  }
 },
 "nbformat": 4,
 "nbformat_minor": 2
}
